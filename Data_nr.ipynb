{
 "cells": [
  {
   "cell_type": "code",
   "execution_count": null,
   "metadata": {
    "vscode": {
     "languageId": "r"
    }
   },
   "outputs": [],
   "source": [
    "print(\"Hello, World!\")\n",
    "import pandas as pd\n",
    "from sklearn.feature_extraction.text import TfidfVectorizer\n",
    "from sklearn.metrics.pairwise import cosine_similarity\n",
    "\n",
    "# Load the CSV file into a pandas DataFrame\n",
    "data = pd.read_csv('Pm_CFTC_2017649.csv')\n",
    "\n",
    "# Preprocess the data\n",
    "data['text'] = data.apply(lambda row: ' '.join(row.values.astype(str)), axis=1)\n",
    "\n",
    "# Create a TF-IDF vectorizer\n",
    "vectorizer = TfidfVectorizer()\n",
    "\n",
    "# Fit and transform the data\n",
    "tfidf_matrix = vectorizer.fit_transform(data['text'])\n",
    "\n",
    "def calculate_similarity(new_data):\n",
    "    # Preprocess the new data\n",
    "    new_data = ' '.join(new_data.values.astype(str))\n",
    "    print(new_data)\n",
    "    # Transform the new data using the same vectorizer\n",
    "    new_tfidf = vectorizer.transform([new_data])\n",
    "\n",
    "    # Calculate the cosine similarity between the new data and existing lines\n",
    "    similarity_scores = cosine_similarity(new_tfidf, tfidf_matrix)\n",
    "\n",
    "    # Return the similarity scores\n",
    "    return similarity_scores\n",
    "\n",
    "# Example usage\n",
    "new_data = pd.Series(['35752170,,NEWT,TRAD,2024-03-16T01:45:52Z,FALSE,CO,Commodity:Agricultural:GrainsOilSeeds:Swap:Cash,N,FALSE,2024-03-16T01:45:52Z,15/3/2024,14/3/2025,,TRUE,XOFF,FALSE,FALSE,FALSE,5,,USD,,,,100,,,,,,,,,,,,,,,,,,,,,,,,,,,,,,,5.18,USD,FALSE,,,,,1,,,,,,,,,,,,,,,,,,,,USD,USD,,,FALSE,,Agricultural,,,,CORN CBT,,,,,FALSE,,,,,,,,,,'])\n",
    "similarity_scores = calculate_similarity(new_data)\n",
    "print(similarity_scores)\n",
    "\n"
   ]
  },
  {
   "cell_type": "code",
   "execution_count": 3,
   "metadata": {},
   "outputs": [
    {
     "ename": "NameError",
     "evalue": "name 'similarity_scores' is not defined",
     "output_type": "error",
     "traceback": [
      "\u001b[1;31m---------------------------------------------------------------------------\u001b[0m",
      "\u001b[1;31mNameError\u001b[0m                                 Traceback (most recent call last)",
      "Cell \u001b[1;32mIn[3], line 1\u001b[0m\n\u001b[1;32m----> 1\u001b[0m \u001b[38;5;28mprint\u001b[39m(\u001b[43msimilarity_scores\u001b[49m)\n\u001b[0;32m      2\u001b[0m \u001b[38;5;28mprint\u001b[39m(similarity_scores\u001b[38;5;241m.\u001b[39mmax())\n",
      "\u001b[1;31mNameError\u001b[0m: name 'similarity_scores' is not defined"
     ]
    }
   ],
   "source": [
    "print(similarity_scores)\n",
    "print(similarity_scores.max())"
   ]
  },
  {
   "cell_type": "code",
   "execution_count": null,
   "metadata": {},
   "outputs": [],
   "source": [
    "# Example usage\n",
    "new_data = pd.Series(['35752170',,NEWT,TRAD,2024-03-16T01:45:52Z,FALSE,CO,Commodity:Agricultural:GrainsOilSeeds:Swap:Cash,N,FALSE,2024-03-16T01:45:52Z,15/3/2024,14/3/2025,,TRUE,XOFF,FALSE,FALSE,FALSE,5,,USD,,,,100,,,,,,,,,,,,,,,,,,,,,,,,,,,,,,,5.18,USD,FALSE,,,,,1,,,,,,,,,,,,,,,,,,,,USD,USD,,,FALSE,,Agricultural,,,,CORN CBT,,,,,FALSE,,,,,,,,,,'])\n",
    "similarity_scores = calculate_similarity(new_data)\n",
    "print(similarity_scores)\n",
    "# Find the index of the most similar data point\n",
    "most_similar_index = similarity_scores.argmax()\n",
    "\n",
    "# Get the most similar data point\n",
    "most_similar_data = data.iloc[most_similar_index]\n",
    "\n",
    "# Print the most similar data point\n",
    "print(most_similar_data)\n"
   ]
  },
  {
   "cell_type": "code",
   "execution_count": null,
   "metadata": {},
   "outputs": [],
   "source": [
    "pip install pandas scikit-learn\n"
   ]
  }
 ],
 "metadata": {
  "kernelspec": {
   "display_name": "Python 3",
   "language": "python",
   "name": "python3"
  },
  "language_info": {
   "codemirror_mode": {
    "name": "ipython",
    "version": 3
   },
   "file_extension": ".py",
   "mimetype": "text/x-python",
   "name": "python",
   "nbconvert_exporter": "python",
   "pygments_lexer": "ipython3",
   "version": "3.10.14"
  }
 },
 "nbformat": 4,
 "nbformat_minor": 2
}
