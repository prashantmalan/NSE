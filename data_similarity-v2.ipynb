{
 "cells": [
  {
   "cell_type": "code",
   "execution_count": 12,
   "metadata": {},
   "outputs": [
    {
     "name": "stdout",
     "output_type": "stream",
     "text": [
      "Hello, World!\n"
     ]
    },
    {
     "name": "stderr",
     "output_type": "stream",
     "text": [
      "C:\\Users\\user\\AppData\\Local\\Temp\\ipykernel_11504\\4086056979.py:7: DtypeWarning: Columns (9,17,52) have mixed types. Specify dtype option on import or set low_memory=False.\n",
      "  data = pd.read_csv('Pm_CFTC_2017649.csv')\n"
     ]
    },
    {
     "name": "stdout",
     "output_type": "stream",
     "text": [
      "935752170 nan NEWT TRAD 2024-03-16T01:45:52Z False CO Commodity:Agricultural:GrainsOilSeeds:Swap:Cash N False 2024-03-16T01:45:52Z 15/3/2024 14/3/2025 nan True XOFF False False False 5 nan USD nan nan nan 100 nan nan nan nan nan nan nan nan nan nan nan nan nan nan nan nan nan nan nan nan nan nan nan nan nan nan nan nan nan nan 5.18 USD False nan nan nan nan 1.0 nan nan nan nan nan nan nan nan nan nan nan nan nan nan nan nan nan nan nan USD USD nan nan False nan Agricultural nan nan nan CORN CBT nan nan nan nan False nan nan nan nan nan nan nan nan nan nan nan 935752170 nan NEWT TRAD 2024-03-16T01:45:52Z False CO Commodity:Agricultural:GrainsOilSeeds:Swap:Cash N False 2024-03-16T01:45:52Z 15/3/2024 14/3/2025 nan True XOFF False False False 5 nan USD nan nan nan 100 nan nan nan nan nan nan nan nan nan nan nan nan nan nan nan nan nan nan nan nan nan nan nan nan nan nan nan nan nan nan 5.18 USD False nan nan nan nan 1.0 nan nan nan nan nan nan nan nan nan nan nan nan nan nan nan nan nan nan nan USD USD nan nan False nan Agricultural nan nan nan CORN CBT nan nan nan nan False nan nan nan nan nan nan nan nan nan nan nan\n",
      "[[1.         0.96385882 0.96476119 ... 0.94501652 0.94369462 0.94263099]]\n"
     ]
    }
   ],
   "source": [
    "print(\"Hello, World!\")\n",
    "import pandas as pd\n",
    "from sklearn.feature_extraction.text import TfidfVectorizer\n",
    "from sklearn.metrics.pairwise import cosine_similarity\n",
    "\n",
    "# Load the CSV file into a pandas DataFrame\n",
    "data = pd.read_csv('Pm_CFTC_2017649.csv')\n",
    "\n",
    "# Preprocess the data\n",
    "data['text'] = data.apply(lambda row: ' '.join(row.values.astype(str)), axis=1)\n",
    "# Create a TF-IDF vectorizer\n",
    "vectorizer = TfidfVectorizer()\n",
    "\n",
    "# Fit and transform the data\n",
    "tfidf_matrix = vectorizer.fit_transform(data['text'])\n",
    "\n",
    "def calculate_similarity(new_data):\n",
    "    # Preprocess the new data\n",
    "    new_data = ' '.join(new_data.values.astype(str))\n",
    "    print(new_data)\n",
    "    # Transform the new data using the same vectorizer\n",
    "    new_tfidf = vectorizer.transform([new_data])\n",
    "\n",
    "    # Calculate the cosine similarity between the new data and existing lines\n",
    "    similarity_scores = cosine_similarity(new_tfidf, tfidf_matrix)\n",
    "\n",
    "    # Return the similarity scores\n",
    "    return similarity_scores\n",
    "\n",
    "# Example usage\n",
    "new_data = data.iloc[0]\n",
    "similarity_scores = calculate_similarity(new_data)\n",
    "print(similarity_scores)\n",
    "\n"
   ]
  },
  {
   "cell_type": "code",
   "execution_count": 11,
   "metadata": {},
   "outputs": [
    {
     "name": "stdout",
     "output_type": "stream",
     "text": [
      "Dissemination Identifier                                                     935752170\n",
      "Original Dissemination Identifier                                                  NaN\n",
      "Action type                                                                       NEWT\n",
      "Event type                                                                        TRAD\n",
      "Event timestamp                                                   2024-03-16T01:45:52Z\n",
      "                                                           ...                        \n",
      "Delivery Type                                                                      NaN\n",
      "Unique Product Identifier                                                          NaN\n",
      "UPI FISN                                                                           NaN\n",
      "UPI Underlier Name                                                                 NaN\n",
      "text                                 935752170 nan NEWT TRAD 2024-03-16T01:45:52Z F...\n",
      "Name: 0, Length: 111, dtype: object\n"
     ]
    }
   ],
   "source": [
    "# Example usage\n",
    "# Find the index of the most similar data point\n",
    "most_similar_index = similarity_scores.argmax()\n",
    "\n",
    "# Get the most similar data point\n",
    "most_similar_data = data.iloc[most_similar_index]\n",
    "\n",
    "# Print the most similar data point\n",
    "print(most_similar_data)\n"
   ]
  }
 ],
 "metadata": {
  "kernelspec": {
   "display_name": "Python 3",
   "language": "python",
   "name": "python3"
  },
  "language_info": {
   "codemirror_mode": {
    "name": "ipython",
    "version": 3
   },
   "file_extension": ".py",
   "mimetype": "text/x-python",
   "name": "python",
   "nbconvert_exporter": "python",
   "pygments_lexer": "ipython3",
   "version": "3.10.9"
  }
 },
 "nbformat": 4,
 "nbformat_minor": 2
}
